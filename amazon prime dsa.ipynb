{
 "cells": [
  {
   "cell_type": "code",
   "execution_count": 8,
   "metadata": {},
   "outputs": [
    {
     "name": "stdout",
     "output_type": "stream",
     "text": [
      "init invoked\n",
      "10\n"
     ]
    }
   ],
   "source": [
    "class Test:\n",
    "    def __init__(self):\n",
    "        print(\"init invoked\")\n",
    "        self.x=10\n",
    "    \n",
    "    def show(self):\n",
    "        print(self.x)\n",
    "        \n",
    "ob = Test()\n",
    "ob.show()  #Test.show(ob)"
   ]
  },
  {
   "cell_type": "code",
   "execution_count": 9,
   "metadata": {},
   "outputs": [],
   "source": [
    "import random\n",
    "import string"
   ]
  },
  {
   "cell_type": "code",
   "execution_count": 10,
   "metadata": {},
   "outputs": [],
   "source": [
    "def generate_id():\n",
    "    tokens = list(string.ascii_letters + string.digits)\n",
    "    uid= ''\n",
    "    for i in range(6):\n",
    "        uid += random.choice(tokens)\n",
    "    return uid\n",
    "    print(generate_id())"
   ]
  },
  {
   "cell_type": "code",
   "execution_count": 11,
   "metadata": {},
   "outputs": [],
   "source": [
    "#id\n",
    "#name\n",
    "#email\n",
    "#isprime = 0 ->Prime\n",
    "#           1 -> Non Prime\n",
    "class Amazon:\n",
    "    def __init__(self):\n",
    "        self.id = None\n",
    "        self.name =None\n",
    "        self.email = None\n",
    "        self.order_cart = None\n",
    "        self.isprime = 1\n",
    "    \n",
    "    def get_details(self):\n",
    "        self.id = generate_id()\n",
    "        self.name = input('Enter name: ')\n",
    "        self.email = input('Enter email address: ')\n",
    "    \n",
    "    def buy_prime(self):\n",
    "        self.isprime = 0\n",
    "        \n",
    "    def buy_items(self):\n",
    "        self.order_cart = [i for i in input('Enter the items names: ').split(\", \")]"
   ]
  },
  {
   "cell_type": "code",
   "execution_count": 12,
   "metadata": {},
   "outputs": [],
   "source": [
    "user_list = []"
   ]
  },
  {
   "cell_type": "code",
   "execution_count": 13,
   "metadata": {},
   "outputs": [],
   "source": [
    "def find_user_pos(new_user):\n",
    "    user_count = len(user_list)\n",
    "    pos = 0\n",
    "    for i in range(user_count):\n",
    "        if user_list[i].isprime <= new_user.isprime:\n",
    "            pos += 1\n",
    "    return pos"
   ]
  },
  {
   "cell_type": "code",
   "execution_count": 14,
   "metadata": {},
   "outputs": [
    {
     "name": "stdout",
     "output_type": "stream",
     "text": [
      "Enter name: Chandani\n",
      "Enter email address: chandanimourya123@gmail.com\n",
      "Want to order? y/n: y\n",
      "Enter the items names: hp laptop\n",
      "Do you want to buy Prime? y/n: y\n",
      "Want to add more user? y/n: y\n",
      "Enter name: janki\n",
      "Enter email address: janki111@gmail.com\n",
      "Want to order? y/n: y\n",
      "Enter the items names: phone\n",
      "Do you want to buy Prime? y/n: n\n",
      "Want to add more user? y/n: y\n",
      "Enter name: Ayush\n",
      "Enter email address: ayushmourya777@gmail.com\n",
      "Want to order? y/n: y\n",
      "Enter the items names: video game\n",
      "Do you want to buy Prime? y/n: n\n",
      "Want to add more user? y/n: y\n",
      "Enter name: savita\n",
      "Enter email address: savita999@gmail.com\n",
      "Want to order? y/n: y\n",
      "Enter the items names: shampoo\n",
      "Do you want to buy Prime? y/n: y\n",
      "Want to add more user? y/n: n\n"
     ]
    }
   ],
   "source": [
    "ch = 'y'\n",
    "while ch == 'y':\n",
    "    new_user = Amazon()\n",
    "    new_user.get_details()\n",
    "    \n",
    "    op = input(\"Want to order? y/n: \")\n",
    "    if op =='y':\n",
    "        new_user.buy_items()\n",
    "        \n",
    "    op = input('Do you want to buy Prime? y/n: ')\n",
    "    if op == 'y':\n",
    "        new_user.buy_prime()\n",
    "        \n",
    "    pos = find_user_pos(new_user)\n",
    "    user_list.insert(pos, new_user)\n",
    "        \n",
    "    ch = input('Want to add more user? y/n: ')"
   ]
  },
  {
   "cell_type": "code",
   "execution_count": 15,
   "metadata": {},
   "outputs": [
    {
     "name": "stdout",
     "output_type": "stream",
     "text": [
      "[<__main__.Amazon object at 0x000001FD85CFAE50>, <__main__.Amazon object at 0x000001FD85CB34C0>, <__main__.Amazon object at 0x000001FD85CA72E0>, <__main__.Amazon object at 0x000001FD85CAEBE0>]\n"
     ]
    }
   ],
   "source": [
    "print(user_list)"
   ]
  },
  {
   "cell_type": "code",
   "execution_count": 16,
   "metadata": {},
   "outputs": [
    {
     "name": "stdout",
     "output_type": "stream",
     "text": [
      "Chandani 0 ['hp laptop']\n",
      "savita 0 ['shampoo']\n",
      "janki 1 ['phone']\n",
      "Ayush 1 ['video game']\n"
     ]
    }
   ],
   "source": [
    "for i in user_list:\n",
    "    print(i.name, i.isprime, i.order_cart)"
   ]
  },
  {
   "cell_type": "code",
   "execution_count": 17,
   "metadata": {},
   "outputs": [],
   "source": [
    "user_list = sorted(user_list, key = lambda user: user.isprime)"
   ]
  },
  {
   "cell_type": "code",
   "execution_count": 18,
   "metadata": {},
   "outputs": [
    {
     "name": "stdout",
     "output_type": "stream",
     "text": [
      "Chandani 0\n",
      "savita 0\n",
      "janki 1\n",
      "Ayush 1\n"
     ]
    }
   ],
   "source": [
    "for i in user_list:\n",
    "    print(i.name, i.isprime)"
   ]
  },
  {
   "cell_type": "code",
   "execution_count": 19,
   "metadata": {},
   "outputs": [
    {
     "name": "stdout",
     "output_type": "stream",
     "text": [
      "Hi Chandani, your order has been shipped under Prime delivery\n",
      "Hi savita, your order has been shipped under Prime delivery\n",
      "Hi janki, your order has been shipped.\n",
      "Hi Ayush, your order has been shipped.\n"
     ]
    }
   ],
   "source": [
    "for i in user_list:\n",
    "    if i.isprime == 0:\n",
    "        print(f'Hi {i.name}, your order has been shipped under Prime delivery')\n",
    "    else:\n",
    "        print(f'Hi {i.name}, your order has been shipped.')\n",
    "        \n",
    "    # i.order_Cart.clear()"
   ]
  },
  {
   "cell_type": "code",
   "execution_count": null,
   "metadata": {},
   "outputs": [],
   "source": []
  },
  {
   "cell_type": "code",
   "execution_count": null,
   "metadata": {},
   "outputs": [],
   "source": []
  }
 ],
 "metadata": {
  "kernelspec": {
   "display_name": "Python 3",
   "language": "python",
   "name": "python3"
  },
  "language_info": {
   "codemirror_mode": {
    "name": "ipython",
    "version": 3
   },
   "file_extension": ".py",
   "mimetype": "text/x-python",
   "name": "python",
   "nbconvert_exporter": "python",
   "pygments_lexer": "ipython3",
   "version": "3.8.5"
  }
 },
 "nbformat": 4,
 "nbformat_minor": 4
}
